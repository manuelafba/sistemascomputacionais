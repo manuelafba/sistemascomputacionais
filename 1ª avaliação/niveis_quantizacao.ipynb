{
 "cells": [
  {
   "cell_type": "code",
   "execution_count": 1,
   "metadata": {},
   "outputs": [
    {
     "name": "stdout",
     "output_type": "stream",
     "text": [
      "Número de bits necessários: 3\n",
      "Todas as combinações de bits possíveis:\n",
      "000\n",
      "001\n",
      "010\n",
      "011\n",
      "100\n",
      "101\n",
      "110\n",
      "111\n"
     ]
    }
   ],
   "source": [
    "import math\n",
    "\n",
    "nniveis = int(input(\"Digite o número de níveis de quantização: \"))\n",
    "nbits = int(math.log2(nniveis))\n",
    "print(\"O número de bits necessários é:\", nbits)\n",
    "\n",
    "combinacoes = []\n",
    "for i in range(2**nbits):\n",
    "    combinacoes.append(format(i, '0' + str(nbits) + 'b'))\n",
    "\n",
    "print(\"Todas as combinações de bits possíveis:\")\n",
    "for comb in combinacoes:\n",
    "    print(comb)"
   ]
  }
 ],
 "metadata": {
  "kernelspec": {
   "display_name": "Python 3",
   "language": "python",
   "name": "python3"
  },
  "language_info": {
   "codemirror_mode": {
    "name": "ipython",
    "version": 3
   },
   "file_extension": ".py",
   "mimetype": "text/x-python",
   "name": "python",
   "nbconvert_exporter": "python",
   "pygments_lexer": "ipython3",
   "version": "3.11.2"
  },
  "orig_nbformat": 4,
  "vscode": {
   "interpreter": {
    "hash": "7c11e252e9e297ad7afcf0dd37a7160fea22ca9680b4dce8452c9fc252609a1a"
   }
  }
 },
 "nbformat": 4,
 "nbformat_minor": 2
}
