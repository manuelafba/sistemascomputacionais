{
 "cells": [
  {
   "cell_type": "code",
   "execution_count": 8,
   "metadata": {},
   "outputs": [
    {
     "name": "stdout",
     "output_type": "stream",
     "text": [
      "O número 01011 em decimal é 11\n"
     ]
    }
   ],
   "source": [
    "binario = input('Digite um número binário: ')\n",
    "decimal = 0\n",
    "expoente = len(binario)-1 #pega a quantidade de digitos e diminui 1, que dá a posição\n",
    "\n",
    "for d in binario: #cria um loop\n",
    "    decimal += int(d)*2**expoente #d = cada digito no binario, multiplicando por 2 elevado ao expoente que é a posição\n",
    "    expoente -= 1 #diminui o valor do expoente a cada repetição\n",
    "\n",
    "print('O número', binario, 'em decimal é', decimal)"
   ]
  }
 ],
 "metadata": {
  "kernelspec": {
   "display_name": "Python 3",
   "language": "python",
   "name": "python3"
  },
  "language_info": {
   "codemirror_mode": {
    "name": "ipython",
    "version": 3
   },
   "file_extension": ".py",
   "mimetype": "text/x-python",
   "name": "python",
   "nbconvert_exporter": "python",
   "pygments_lexer": "ipython3",
   "version": "3.11.3"
  },
  "orig_nbformat": 4,
  "vscode": {
   "interpreter": {
    "hash": "7c11e252e9e297ad7afcf0dd37a7160fea22ca9680b4dce8452c9fc252609a1a"
   }
  }
 },
 "nbformat": 4,
 "nbformat_minor": 2
}
