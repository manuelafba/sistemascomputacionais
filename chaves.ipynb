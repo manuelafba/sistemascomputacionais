{
 "cells": [
  {
   "cell_type": "code",
   "execution_count": 26,
   "metadata": {},
   "outputs": [
    {
     "name": "stdout",
     "output_type": "stream",
     "text": [
      "A saída foi desativada\n"
     ]
    }
   ],
   "source": [
    "\n",
    "A = int(input(\"A chave A está aberta ou fechada? Digite 0 para aberta ou 1 para fechada\"))\n",
    "B = int(input(\"A chave B está aberta ou fechada? Digite 0 para aberta ou 1 para fechada\"))\n",
    "C = int(input(\"A chave C está aberta ou fechada? Digite 0 para aberta ou 1 para fechada\"))\n",
    "\n",
    "combinacao_entradas = A + B + C\n",
    "\n",
    "if combinacao_entradas % 2 == 0: #detecta se a quantidade de chaves fechadas é par, se sim, a saída será ativada\n",
    "    print(\"A saída está ativada\")\n",
    "else:\n",
    "    print(\"A saída está desativada\") #se a quantidade de chaves fechadas for ímpar, a saída será desativada"
   ]
  }
 ],
 "metadata": {
  "kernelspec": {
   "display_name": "Python 3",
   "language": "python",
   "name": "python3"
  },
  "language_info": {
   "codemirror_mode": {
    "name": "ipython",
    "version": 3
   },
   "file_extension": ".py",
   "mimetype": "text/x-python",
   "name": "python",
   "nbconvert_exporter": "python",
   "pygments_lexer": "ipython3",
   "version": "3.11.3"
  },
  "orig_nbformat": 4,
  "vscode": {
   "interpreter": {
    "hash": "7c11e252e9e297ad7afcf0dd37a7160fea22ca9680b4dce8452c9fc252609a1a"
   }
  }
 },
 "nbformat": 4,
 "nbformat_minor": 2
}
