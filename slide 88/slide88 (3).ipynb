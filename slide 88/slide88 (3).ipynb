{
  "metadata": {
    "kernelspec": {
      "name": "python",
      "display_name": "Python (Pyodide)",
      "language": "python"
    },
    "language_info": {
      "codemirror_mode": {
        "name": "python",
        "version": 3
      },
      "file_extension": ".py",
      "mimetype": "text/x-python",
      "name": "python",
      "nbconvert_exporter": "python",
      "pygments_lexer": "ipython3",
      "version": "3.8"
    }
  },
  "nbformat_minor": 5,
  "nbformat": 4,
  "cells": [
    {
      "cell_type": "markdown",
      "source": "![Barramentos](https://github.com/manuelafba/sistemascomputacionais/blob/main/slide%2088/barramentos.png?raw=true)",
      "metadata": {},
      "id": "a1c6dd49-906d-4b5a-8318-063298553c88"
    },
    {
      "cell_type": "markdown",
      "source": "Existem três tipos de barramentos: barramento de dados, de endereço e de controle. O barramento de dados transfere bits de informações, podendo sair do RDM para a MP no caso da operação de escrita e no sentido contrário na operação de leitura, sendo assim bidirecional. O barramento de endereços é unidirecional (processador para MP) e liga o processador à memória principal transferindo bits que significam um endereço. Já o barramento de controle interliga o processador com a MP para a passagem de sinais de controle (write, read ou wait) e é bidirecional.",
      "metadata": {},
      "id": "8013a346-0dbe-4298-993e-bab29cba6b9a"
    },
    {
      "cell_type": "markdown",
      "source": "![Leitura](https://github.com/manuelafba/sistemascomputacionais/blob/main/slide%2088/OP%20LEITURA.jpg?raw=true)",
      "metadata": {},
      "id": "747d1602-97c1-49bb-9c54-3ea77994dfc8"
    },
    {
      "cell_type": "markdown",
      "source": "8)\n1 - REM recebe o endereço que será lido de outro registrador (ex: 101) e é encaminhado pela UC para o barramento de endereço e emite o sinal READ para o barramento de controle\n2 - A MP decodifica o endereço, localiza a célula e envia o conteúdo (ex: 10011) para o RDM pelo barramento de dados\n3- RDM recebe o conteúdo, que será enviado para outro registrador",
      "metadata": {},
      "id": "54575c00-7578-41fa-870a-6dafed574918"
    },
    {
      "cell_type": "markdown",
      "source": "![Escrita](https://github.com/manuelafba/sistemascomputacionais/blob/main/slide%2088/op%20escrita.jpg?raw=true)",
      "metadata": {},
      "id": "4edc5906-c83d-4652-b1ef-8813d4ea39f4"
    },
    {
      "cell_type": "markdown",
      "source": "9)\n1 - REM recebe o endereço (ex: 111) onde será escrito de outro registrador e é encaminhado para o barramento de endereço \n2 - RDM recebe o dado (ex: 10001) que será escrito de outro registrador e é encaminhado para o barramento de dados\n3 - UC emite o sinal de WRITE pelo barramento de controle\n4 - O dado é transferido para a célula de memória pelo BD",
      "metadata": {},
      "id": "1dff2a9c-1606-42d8-a5f5-a685652e344d"
    },
    {
      "cell_type": "markdown",
      "source": "13) \nEndereço de B = 27FA (endereço de A dado na questão) + 128\n27FA em binário = 0010 0111 1111 1010\n128 em binário = 1000 0000\n0010 0111 1111 1010 + 1000 0000 = 0010 1000 0111 1010 = 28FA em hexadecimal\n\nEndereço d0 1º J = 27FA + 128 * 9\n128 * 9 = 1152 = 0100 1000 0000\n0010 0111 1111 1010 + 0100 1000 0000 = 0010 1100 0111 1010 = 2C7A em hexadecimal",
      "metadata": {},
      "id": "c8bc3ff3-98da-4d50-ad66-e44a55d6d59b"
    },
    {
      "cell_type": "markdown",
      "source": "14) \nDRAM = 5,00 + 0,00001x (x = número de bits)\nSRAM = 1,00 + 0,00002x\n\n5 + 0,00001x = 1 + 0,00002x\n0,00001x = 4\nx = 400000 bits",
      "metadata": {},
      "id": "e47d0482-c5d8-43c7-8722-d1227b97146f"
    },
    {
      "cell_type": "code",
      "source": "",
      "metadata": {},
      "execution_count": null,
      "outputs": [],
      "id": "1ac7c421-32c2-454e-b899-b74de67c5ea1"
    }
  ]
}