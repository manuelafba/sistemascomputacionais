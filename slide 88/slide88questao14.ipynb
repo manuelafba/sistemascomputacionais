{
 "cells": [
  {
   "cell_type": "code",
   "execution_count": null,
   "metadata": {},
   "outputs": [],
   "source": [
    "sram = 1\n",
    "dram = 5\n",
    "bit = 0\n",
    "\n",
    "while sram <= dram:\n",
    "    dram += 0.00001\n",
    "    sram += 0.00002\n",
    "    bit += 1\n",
    "    \n",
    "print(f\"A DRAM deve ter {bit} bits para ser mais barata\")"
   ]
  }
 ],
 "metadata": {
  "language_info": {
   "name": "python"
  },
  "orig_nbformat": 4
 },
 "nbformat": 4,
 "nbformat_minor": 2
}
