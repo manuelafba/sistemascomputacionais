{
 "cells": [
  {
   "attachments": {},
   "cell_type": "markdown",
   "metadata": {},
   "source": [
    "Existem três tipos de barramentos: barremento de dados, de endereço e de controle. O barramento de dados transfere bits de informações, podendo sair do RDM para a MP no caso da operação de escrita e no sentido contrário na operação de leitura, sendo assim bidirecional. O barramento de endereços é unidirecional (processador para MP) e liga o processador à memória principal transferindo bits que significam um endereço. Já o barramento de controle interliga o processador com a MP para a passagem de sinais de controle (write, read ou wait) e é bidirecional."
   ]
  },
  {
   "cell_type": "code",
   "execution_count": null,
   "metadata": {},
   "outputs": [],
   "source": [
    "![operação de leitura](https://github.com/manuelafba/sistemascomputacionais/blob/main/slide%2088/OP%20LEITURA.jpg)"
   ]
  },
  {
   "attachments": {},
   "cell_type": "markdown",
   "metadata": {},
   "source": [
    "8. 1. REM recebe o endereço que será lido de outro registrador (ex: 101) e é encaminhado pela UC para o barramento de endereço e emite o sinal READ para o barramento de controle\n",
    "2. A MP decodifica o endereço, localiza a célula e envia o conteúdo (ex: 10011) para o RDM pelo barramento de dados\n",
    "3. RDM recebe o conteúdo, que será enviado para outro registrador"
   ]
  },
  {
   "attachments": {},
   "cell_type": "markdown",
   "metadata": {},
   "source": [
    "9. 1. REM recebe o endereço (ex: 111) onde será escrito de outro registrador e é encaminhado para o barramento de endereço \n",
    "2. RDM recebe o dado (ex: 10001) que será escrito de outro registrador e é encaminhado para o barramento de dados\n",
    "3. UC emite o sinal de WRITE pelo barramento de controle\n",
    "4. O dado é transferido para a célula de memória pelo BD"
   ]
  },
  {
   "attachments": {},
   "cell_type": "markdown",
   "metadata": {},
   "source": [
    "13. Endereço de B = 27FA (endereço de A dado na questão) + 128\n",
    "27FA em binário = 0010 0111 1111 1010\n",
    "128 em binário = 1000 0000\n",
    "0010 0111 1111 1010 + 1000 0000 = 0010 1000 0111 1010 = 28FA em hexadecimal\n",
    "\n",
    "Endereço d0 1º J = 27FA + 128 * 9\n",
    "128 * 9 = 1152 = 0100 1000 0000\n",
    "0010 0111 1111 1010 + 0100 1000 0000 = 0010 1100 0111 1010 = 2C7A em hexadecimal"
   ]
  },
  {
   "attachments": {},
   "cell_type": "markdown",
   "metadata": {},
   "source": [
    "14. DRAM = 5,00 + 0,00001x (x = número de bits)\n",
    "SRAM = 1,00 + 0,00002x\n",
    "\n",
    "5 + 0,00001x = 1 + 0,00002x\n",
    "0,00001x = 4\n",
    "x = 400000 bits"
   ]
  }
 ],
 "metadata": {
  "kernelspec": {
   "display_name": "Python 3",
   "language": "python",
   "name": "python3"
  },
  "language_info": {
   "codemirror_mode": {
    "name": "ipython",
    "version": 3
   },
   "file_extension": ".py",
   "mimetype": "text/x-python",
   "name": "python",
   "nbconvert_exporter": "python",
   "pygments_lexer": "ipython3",
   "version": "3.11.3"
  },
  "orig_nbformat": 4,
  "vscode": {
   "interpreter": {
    "hash": "7c11e252e9e297ad7afcf0dd37a7160fea22ca9680b4dce8452c9fc252609a1a"
   }
  }
 },
 "nbformat": 4,
 "nbformat_minor": 2
}
