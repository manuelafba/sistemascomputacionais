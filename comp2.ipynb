{
 "cells": [
  {
   "cell_type": "code",
   "execution_count": 10,
   "metadata": {},
   "outputs": [
    {
     "name": "stdout",
     "output_type": "stream",
     "text": [
      "0010 - 0111 = -11 em decimal.\n",
      "Em binário é: 1011\n"
     ]
    }
   ],
   "source": [
    "numerob1 = input(\"Digite o primeiro número em binário: \") #pedir dois números ao usuário\n",
    "numerob2 = input(\"Digite o segundo número em binário: \")\n",
    "\n",
    "if not all(c in '01' for c in numerob1): #verifica se os números que o usuário inseriu estão em binário\n",
    "    print(\"O primeiro número digitado não é binário.\")\n",
    "    exit()\n",
    "if not all(c in '01' for c in numerob2):\n",
    "    print(\"O segundo número digitado não é binário.\")\n",
    "    exit()\n",
    "\n",
    "def binario_decimal(binario): #função de converter o número em binário para decimal\n",
    "    decimal = 0\n",
    "    expoente = len(binario) - 1\n",
    "    for d in binario:\n",
    "        decimal += int(d) * 2 ** expoente\n",
    "        expoente -= 1\n",
    "    return decimal\n",
    "\n",
    "dec1 = binario_decimal(numerob1) #utiliza a função criada anteriormente e armazena o resultado nas variáveis\n",
    "dec2 = binario_decimal(numerob2)\n",
    "\n",
    "def decimal_binario(decimal): #função de converter o número em decimal para binário\n",
    "    if decimal == 0:\n",
    "        return '0'\n",
    "    binario = ''\n",
    "    while decimal > 0:\n",
    "        binario = str(decimal % 2) + binario\n",
    "        decimal //= 2\n",
    "    return binario\n",
    "\n",
    "if dec1 >= dec2: #decimal 1 sendo maior que o 2, subtração normal\n",
    "    subtracao = dec1 - dec2\n",
    "    print(f\"{numerob1} - {numerob2} = {subtracao} em decimal.\")\n",
    "    print(f\"Em binário: {decimal_binario(subtracao)}\")\n",
    "else: #caso o decimal 2 seja maior que o 1\n",
    "    complemento_de_2 = (1 << len(numerob1)) - dec2 #calcula o complemento de 2\n",
    "    subtracao = dec1 + complemento_de_2\n",
    "    print(f\"{numerob1} - {numerob2} = -{subtracao} em decimal.\")\n",
    "    print(f\"Em binário é: {decimal_binario(subtracao)}\")"
   ]
  }
 ],
 "metadata": {
  "kernelspec": {
   "display_name": "Python 3",
   "language": "python",
   "name": "python3"
  },
  "language_info": {
   "codemirror_mode": {
    "name": "ipython",
    "version": 3
   },
   "file_extension": ".py",
   "mimetype": "text/x-python",
   "name": "python",
   "nbconvert_exporter": "python",
   "pygments_lexer": "ipython3",
   "version": "3.11.3"
  },
  "orig_nbformat": 4,
  "vscode": {
   "interpreter": {
    "hash": "7c11e252e9e297ad7afcf0dd37a7160fea22ca9680b4dce8452c9fc252609a1a"
   }
  }
 },
 "nbformat": 4,
 "nbformat_minor": 2
}
