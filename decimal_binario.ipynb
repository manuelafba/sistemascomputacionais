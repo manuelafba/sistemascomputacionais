{
 "cells": [
  {
   "cell_type": "code",
   "execution_count": 10,
   "metadata": {},
   "outputs": [
    {
     "name": "stdout",
     "output_type": "stream",
     "text": [
      "O número 10101 em binário é 10011101110101\n"
     ]
    }
   ],
   "source": [
    "decimal = int(input(\"Digite um número decimal: \"))\n",
    "decimalinicial = decimal #armazena o valor do decimal inserido para aparecer na mensagem final\n",
    "\n",
    "binario = \"\" #vai armazenar os dígitos do número binário\n",
    "\n",
    "while decimal > 0: #inicia um loop que vai continuar enquanto o decimal (dividendo da divisão) for maior que zero\n",
    "    resto = decimal % 2 #divide o resto da divisão por 2\n",
    "    binario = str(resto) + binario\n",
    "    decimal = decimal // 2 #divisão inteira\n",
    "\n",
    "print(\"O número\",decimalinicial, \"em binário é\",binario)"
   ]
  }
 ],
 "metadata": {
  "kernelspec": {
   "display_name": "Python 3",
   "language": "python",
   "name": "python3"
  },
  "language_info": {
   "codemirror_mode": {
    "name": "ipython",
    "version": 3
   },
   "file_extension": ".py",
   "mimetype": "text/x-python",
   "name": "python",
   "nbconvert_exporter": "python",
   "pygments_lexer": "ipython3",
   "version": "3.11.2"
  },
  "orig_nbformat": 4,
  "vscode": {
   "interpreter": {
    "hash": "7c11e252e9e297ad7afcf0dd37a7160fea22ca9680b4dce8452c9fc252609a1a"
   }
  }
 },
 "nbformat": 4,
 "nbformat_minor": 2
}
